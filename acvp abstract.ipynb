{
 "cells": [
  {
   "cell_type": "markdown",
   "id": "af7867d6-f265-4096-b72f-247ec3c2d5ee",
   "metadata": {},
   "source": [
    "## Extraction Time – Statistical Analysis\n",
    "\n",
    "### Goal  \n",
    "Compare extraction time between Gemini and Manual methods using paired data.\n",
    "\n",
    "### Step 1: Visualize Distribution  \n",
    "See plot below:  \n",
    "Gemini shows a sharp left-skewed distribution; Manual extraction times appear approximately normal.\n",
    "\n",
    "### Step 2: Normality Test (Shapiro-Wilk)  \n",
    "- Gemini: p < 0.001 → Not normally distributed  \n",
    "- Manual: p = 0.986 → Normally distributed\n",
    "\n",
    "### Decision  \n",
    "Since at least one group is not normally distributed, we used the Wilcoxon matched-pairs signed-rank test.\n",
    "\n",
    "### Result  \n",
    "- Wilcoxon test (alternative='less')  \n",
    "  → p = 0.00098  \n",
    "  → Statistically significant  \n",
    "  → Interpretation: Gemini extraction time is significantly shorter than Manual.\n"
   ]
  },
  {
   "cell_type": "code",
   "execution_count": 23,
   "id": "a57e19ce-425a-4de3-b7d8-b7d051bfa309",
   "metadata": {},
   "outputs": [
    {
     "name": "stdout",
     "output_type": "stream",
     "text": [
      "Gemini extraction time: ShapiroResult(statistic=0.575659043985826, pvalue=2.8392729282612668e-05)\n",
      "Manual extraction time: ShapiroResult(statistic=0.9850878028371266, pvalue=0.9865510350897377)\n"
     ]
    },
    {
     "data": {
      "image/png": "[encoded data removed]",
      "text/plain": [
       "<Figure size 640x480 with 1 Axes>"
      ]
     },
     "metadata": {},
     "output_type": "display_data"
    }
   ],
   "source": [
    "import numpy as np\n",
    "from scipy.stats import shapiro\n",
    "import matplotlib.pyplot as plt\n",
    "import seaborn as sns\n",
    "\n",
    "extrac_gemini = np.array([6.33, 7.42, 7.12, 7.04, 6.49, 7.18, 22.33, 7.16, 31.5, 7.26])  \n",
    "extrac_manual = np.array([312.1, 348.74, 326.32, 296.42, 278.13, 258.74, 298.33, 314.87, 291.66, 276.41]) \n",
    "\n",
    "# Shapiro-Wilk test\n",
    "print(\"Gemini extraction time:\", shapiro(extrac_gemini))\n",
    "print(\"Manual extraction time:\", shapiro(extrac_manual))\n",
    "\n",
    "# Optional: plot\n",
    "sns.histplot(extrac_gemini, kde=True, color='blue', label='Gemini')\n",
    "sns.histplot(extrac_manual, kde=True, color='orange', label='Manual')\n",
    "plt.legend()\n",
    "plt.show()\n"
   ]
  },
  {
   "cell_type": "code",
   "execution_count": 28,
   "id": "be3c149a-74fc-4b7b-a367-05b054303386",
   "metadata": {},
   "outputs": [
    {
     "name": "stdout",
     "output_type": "stream",
     "text": [
      "Wilcoxon matched-pairs p-value: 0.0009765625\n"
     ]
    }
   ],
   "source": [
    "from scipy.stats import wilcoxon\n",
    "\n",
    "stat, p = wilcoxon(extrac_gemini, extrac_manual, alternative='less')\n",
    "print(\"Wilcoxon matched-pairs p-value:\", p)\n",
    "\n"
   ]
  },
  {
   "cell_type": "markdown",
   "id": "b8b6db28-4c06-4d14-84a3-a4f926e8eee4",
   "metadata": {},
   "source": [
    "## Verification Time – Statistical Analysis\n",
    "\n",
    "### Goal  \n",
    "Compare verification time between Gemini and Manual using paired data.\n",
    "\n",
    "### Step 1: Normality Check (Shapiro-Wilk)\n",
    "- Gemini: p = 0.413 → Normal  \n",
    "- Manual: p = 0.518 → Normal\n",
    "\n",
    "### Decision  \n",
    "Both groups are normally distributed → We used a paired t-test.\n",
    "\n",
    "### Result  \n",
    "- Paired t-test  \n",
    "  → p = 0.1027  \n",
    "  → Not statistically significant  \n",
    "  → Interpretation: No significant difference in verification time between Gemini and Manual."
   ]
  },
  {
   "cell_type": "code",
   "execution_count": 31,
   "id": "803a3ec9-28ce-405e-b3d3-26abe7d0ae3e",
   "metadata": {},
   "outputs": [
    {
     "name": "stdout",
     "output_type": "stream",
     "text": [
      "Shapiro ver_gemini: ShapiroResult(statistic=0.9263092188916796, pvalue=0.4125859028410402)\n",
      "Shapiro ver_manual: ShapiroResult(statistic=0.936726530843464, pvalue=0.5171960120567385)\n",
      "Paired t-test result: 0.10274415327636444\n"
     ]
    }
   ],
   "source": [
    "from scipy.stats import ttest_rel\n",
    "\n",
    "ver_gemini = np.array([145.66, 176.6, 200.5, 228.47, 152.83, 180.28, 138.51, 153.37, 220.33, 177.76])\n",
    "ver_manual = np.array([172.91, 218.76, 218.63, 196.77, 190.09, 154.72, 232.0, 198.23, 231.79, 172.7])\n",
    "\n",
    "print(\"Shapiro ver_gemini:\", shapiro(ver_gemini))\n",
    "print(\"Shapiro ver_manual:\", shapiro(ver_manual))\n",
    "\n",
    "t_stat, p_val = ttest_rel(ver_gemini, ver_manual)\n",
    "print(\"Paired t-test result:\", p_val)\n",
    "\n",
    "\n"
   ]
  },
  {
   "cell_type": "code",
   "execution_count": null,
   "id": "8bdb8be8-48e5-4bc2-b680-a91f0799158c",
   "metadata": {},
   "outputs": [],
   "source": []
  }
 ],
 "metadata": {
  "kernelspec": {
   "display_name": "Python [conda env:base] *",
   "language": "python",
   "name": "conda-base-py"
  },
  "language_info": {
   "codemirror_mode": {
    "name": "ipython",
    "version": 3
   },
   "file_extension": ".py",
   "mimetype": "text/x-python",
   "name": "python",
   "nbconvert_exporter": "python",
   "pygments_lexer": "ipython3",
   "version": "3.12.7"
  }
 },
 "nbformat": 4,
 "nbformat_minor": 5
}
